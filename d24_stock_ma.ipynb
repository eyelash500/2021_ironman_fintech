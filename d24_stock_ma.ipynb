{
 "cells": [
  {
   "cell_type": "code",
   "execution_count": 1,
   "source": [
    "import db_connect\n",
    "import pandas"
   ],
   "outputs": [],
   "metadata": {}
  },
  {
   "cell_type": "code",
   "execution_count": 2,
   "source": [
    "# 建立與MySQL的連線\n",
    "my_connt_obj = db_connect.mysql_connect()\n",
    "conn = my_connt_obj.connect()"
   ],
   "outputs": [],
   "metadata": {}
  },
  {
   "cell_type": "code",
   "execution_count": 3,
   "source": [
    "# 取得股價資訊\n",
    "df = pandas.read_sql(\"SELECT * FROM DailyPrice WHERE TradeDate >'2021-01-01'\", con=conn)\n",
    "# 觀察資料\n",
    "df.head()"
   ],
   "outputs": [
    {
     "output_type": "execute_result",
     "data": {
      "text/plain": [
       "   ID   TradeDate StockID Symbol  OpenPrice  HighPrice  LowPrice  ClosePrice  \\\n",
       "0   1  2021-09-24    None   0050     138.80     139.65    138.70      139.65   \n",
       "1   2  2021-09-24    None   0051      57.70      57.80     57.50       57.50   \n",
       "2   3  2021-09-24    None   0052     125.60     126.10    125.40      126.05   \n",
       "3   4  2021-09-24    None   0053      66.90      66.90     66.70       66.85   \n",
       "4   5  2021-09-24    None   0054      31.93      31.93     31.87       31.87   \n",
       "\n",
       "    Volumn          CreateTime  \n",
       "0  6297547 2021-09-24 20:11:44  \n",
       "1    24754 2021-09-24 20:11:44  \n",
       "2   647168 2021-09-24 20:11:44  \n",
       "3     7800 2021-09-24 20:11:44  \n",
       "4    43832 2021-09-24 20:11:44  "
      ],
      "text/html": [
       "<div>\n",
       "<style scoped>\n",
       "    .dataframe tbody tr th:only-of-type {\n",
       "        vertical-align: middle;\n",
       "    }\n",
       "\n",
       "    .dataframe tbody tr th {\n",
       "        vertical-align: top;\n",
       "    }\n",
       "\n",
       "    .dataframe thead th {\n",
       "        text-align: right;\n",
       "    }\n",
       "</style>\n",
       "<table border=\"1\" class=\"dataframe\">\n",
       "  <thead>\n",
       "    <tr style=\"text-align: right;\">\n",
       "      <th></th>\n",
       "      <th>ID</th>\n",
       "      <th>TradeDate</th>\n",
       "      <th>StockID</th>\n",
       "      <th>Symbol</th>\n",
       "      <th>OpenPrice</th>\n",
       "      <th>HighPrice</th>\n",
       "      <th>LowPrice</th>\n",
       "      <th>ClosePrice</th>\n",
       "      <th>Volumn</th>\n",
       "      <th>CreateTime</th>\n",
       "    </tr>\n",
       "  </thead>\n",
       "  <tbody>\n",
       "    <tr>\n",
       "      <th>0</th>\n",
       "      <td>1</td>\n",
       "      <td>2021-09-24</td>\n",
       "      <td>None</td>\n",
       "      <td>0050</td>\n",
       "      <td>138.80</td>\n",
       "      <td>139.65</td>\n",
       "      <td>138.70</td>\n",
       "      <td>139.65</td>\n",
       "      <td>6297547</td>\n",
       "      <td>2021-09-24 20:11:44</td>\n",
       "    </tr>\n",
       "    <tr>\n",
       "      <th>1</th>\n",
       "      <td>2</td>\n",
       "      <td>2021-09-24</td>\n",
       "      <td>None</td>\n",
       "      <td>0051</td>\n",
       "      <td>57.70</td>\n",
       "      <td>57.80</td>\n",
       "      <td>57.50</td>\n",
       "      <td>57.50</td>\n",
       "      <td>24754</td>\n",
       "      <td>2021-09-24 20:11:44</td>\n",
       "    </tr>\n",
       "    <tr>\n",
       "      <th>2</th>\n",
       "      <td>3</td>\n",
       "      <td>2021-09-24</td>\n",
       "      <td>None</td>\n",
       "      <td>0052</td>\n",
       "      <td>125.60</td>\n",
       "      <td>126.10</td>\n",
       "      <td>125.40</td>\n",
       "      <td>126.05</td>\n",
       "      <td>647168</td>\n",
       "      <td>2021-09-24 20:11:44</td>\n",
       "    </tr>\n",
       "    <tr>\n",
       "      <th>3</th>\n",
       "      <td>4</td>\n",
       "      <td>2021-09-24</td>\n",
       "      <td>None</td>\n",
       "      <td>0053</td>\n",
       "      <td>66.90</td>\n",
       "      <td>66.90</td>\n",
       "      <td>66.70</td>\n",
       "      <td>66.85</td>\n",
       "      <td>7800</td>\n",
       "      <td>2021-09-24 20:11:44</td>\n",
       "    </tr>\n",
       "    <tr>\n",
       "      <th>4</th>\n",
       "      <td>5</td>\n",
       "      <td>2021-09-24</td>\n",
       "      <td>None</td>\n",
       "      <td>0054</td>\n",
       "      <td>31.93</td>\n",
       "      <td>31.93</td>\n",
       "      <td>31.87</td>\n",
       "      <td>31.87</td>\n",
       "      <td>43832</td>\n",
       "      <td>2021-09-24 20:11:44</td>\n",
       "    </tr>\n",
       "  </tbody>\n",
       "</table>\n",
       "</div>"
      ]
     },
     "metadata": {},
     "execution_count": 3
    }
   ],
   "metadata": {}
  },
  {
   "cell_type": "code",
   "execution_count": 4,
   "source": [
    "# 關閉連線\n",
    "conn.close() "
   ],
   "outputs": [],
   "metadata": {}
  },
  {
   "cell_type": "code",
   "execution_count": 5,
   "source": [
    "# 取得台積電資料，代號：2330\n",
    "df_2330 = df.loc[df['Symbol'] == \"2330\"]\n",
    "df_2330.tail() #確認資料"
   ],
   "outputs": [
    {
     "output_type": "execute_result",
     "data": {
      "text/plain": [
       "        ID   TradeDate StockID Symbol  OpenPrice  HighPrice  LowPrice  \\\n",
       "1192  2351  2021-09-15    None   2330      610.0      613.0     607.0   \n",
       "1193  2352  2021-09-16    None   2330      603.0      607.0     599.0   \n",
       "1194  2353  2021-09-17    None   2330      600.0      610.0     599.0   \n",
       "1195  2354  2021-09-22    None   2330      586.0      589.0     583.0   \n",
       "1196  2355  2021-09-23    None   2330      588.0      593.0     588.0   \n",
       "\n",
       "      ClosePrice    Volumn          CreateTime  \n",
       "1192       607.0  26041452 2021-09-24 20:29:40  \n",
       "1193       600.0  23315040 2021-09-24 20:29:40  \n",
       "1194       600.0  42383815 2021-09-24 20:29:40  \n",
       "1195       586.0  42732169 2021-09-24 20:29:40  \n",
       "1196       588.0  22736266 2021-09-24 20:29:40  "
      ],
      "text/html": [
       "<div>\n",
       "<style scoped>\n",
       "    .dataframe tbody tr th:only-of-type {\n",
       "        vertical-align: middle;\n",
       "    }\n",
       "\n",
       "    .dataframe tbody tr th {\n",
       "        vertical-align: top;\n",
       "    }\n",
       "\n",
       "    .dataframe thead th {\n",
       "        text-align: right;\n",
       "    }\n",
       "</style>\n",
       "<table border=\"1\" class=\"dataframe\">\n",
       "  <thead>\n",
       "    <tr style=\"text-align: right;\">\n",
       "      <th></th>\n",
       "      <th>ID</th>\n",
       "      <th>TradeDate</th>\n",
       "      <th>StockID</th>\n",
       "      <th>Symbol</th>\n",
       "      <th>OpenPrice</th>\n",
       "      <th>HighPrice</th>\n",
       "      <th>LowPrice</th>\n",
       "      <th>ClosePrice</th>\n",
       "      <th>Volumn</th>\n",
       "      <th>CreateTime</th>\n",
       "    </tr>\n",
       "  </thead>\n",
       "  <tbody>\n",
       "    <tr>\n",
       "      <th>1192</th>\n",
       "      <td>2351</td>\n",
       "      <td>2021-09-15</td>\n",
       "      <td>None</td>\n",
       "      <td>2330</td>\n",
       "      <td>610.0</td>\n",
       "      <td>613.0</td>\n",
       "      <td>607.0</td>\n",
       "      <td>607.0</td>\n",
       "      <td>26041452</td>\n",
       "      <td>2021-09-24 20:29:40</td>\n",
       "    </tr>\n",
       "    <tr>\n",
       "      <th>1193</th>\n",
       "      <td>2352</td>\n",
       "      <td>2021-09-16</td>\n",
       "      <td>None</td>\n",
       "      <td>2330</td>\n",
       "      <td>603.0</td>\n",
       "      <td>607.0</td>\n",
       "      <td>599.0</td>\n",
       "      <td>600.0</td>\n",
       "      <td>23315040</td>\n",
       "      <td>2021-09-24 20:29:40</td>\n",
       "    </tr>\n",
       "    <tr>\n",
       "      <th>1194</th>\n",
       "      <td>2353</td>\n",
       "      <td>2021-09-17</td>\n",
       "      <td>None</td>\n",
       "      <td>2330</td>\n",
       "      <td>600.0</td>\n",
       "      <td>610.0</td>\n",
       "      <td>599.0</td>\n",
       "      <td>600.0</td>\n",
       "      <td>42383815</td>\n",
       "      <td>2021-09-24 20:29:40</td>\n",
       "    </tr>\n",
       "    <tr>\n",
       "      <th>1195</th>\n",
       "      <td>2354</td>\n",
       "      <td>2021-09-22</td>\n",
       "      <td>None</td>\n",
       "      <td>2330</td>\n",
       "      <td>586.0</td>\n",
       "      <td>589.0</td>\n",
       "      <td>583.0</td>\n",
       "      <td>586.0</td>\n",
       "      <td>42732169</td>\n",
       "      <td>2021-09-24 20:29:40</td>\n",
       "    </tr>\n",
       "    <tr>\n",
       "      <th>1196</th>\n",
       "      <td>2355</td>\n",
       "      <td>2021-09-23</td>\n",
       "      <td>None</td>\n",
       "      <td>2330</td>\n",
       "      <td>588.0</td>\n",
       "      <td>593.0</td>\n",
       "      <td>588.0</td>\n",
       "      <td>588.0</td>\n",
       "      <td>22736266</td>\n",
       "      <td>2021-09-24 20:29:40</td>\n",
       "    </tr>\n",
       "  </tbody>\n",
       "</table>\n",
       "</div>"
      ]
     },
     "metadata": {},
     "execution_count": 5
    }
   ],
   "metadata": {}
  },
  {
   "cell_type": "code",
   "execution_count": 6,
   "source": [
    "# 製作5日移動平均數\n",
    "close_price_5 = df_2330[\"ClosePrice\"].rolling(5, min_periods=1).mean()\n",
    "print(close_price_5.tail()) # 確認資料\n",
    "\n",
    "# 製作20日移動平均數\n",
    "close_price_20 = df_2330[\"ClosePrice\"].rolling(20, min_periods=1).mean()\n",
    "print(close_price_20.tail())    # 確認資料"
   ],
   "outputs": [
    {
     "output_type": "stream",
     "name": "stdout",
     "text": [
      "1192    585.8\n",
      "1193    589.8\n",
      "1194    594.0\n",
      "1195    594.6\n",
      "1196    596.2\n",
      "Name: ClosePrice, dtype: float64\n",
      "1192    590.35\n",
      "1193    590.75\n",
      "1194    591.05\n",
      "1195    590.95\n",
      "1196    591.15\n",
      "Name: ClosePrice, dtype: float64\n"
     ]
    }
   ],
   "metadata": {}
  },
  {
   "cell_type": "code",
   "execution_count": 7,
   "source": [
    "# signal_7: 5MA > 20MA\n",
    "# 近期5日平均比20日還要高\n",
    "# True:高；False：低\n",
    "\n",
    "signal_7 = True if close_price_5.iloc[-1] > close_price_20.iloc[-1] else False\n",
    "signal_7"
   ],
   "outputs": [
    {
     "output_type": "execute_result",
     "data": {
      "text/plain": [
       "True"
      ]
     },
     "metadata": {},
     "execution_count": 7
    }
   ],
   "metadata": {}
  }
 ],
 "metadata": {
  "orig_nbformat": 4,
  "language_info": {
   "name": "python",
   "version": "3.9.7",
   "mimetype": "text/x-python",
   "codemirror_mode": {
    "name": "ipython",
    "version": 3
   },
   "pygments_lexer": "ipython3",
   "nbconvert_exporter": "python",
   "file_extension": ".py"
  },
  "kernelspec": {
   "name": "python3",
   "display_name": "Python 3.9.7 64-bit ('.venv': pipenv)"
  },
  "interpreter": {
   "hash": "2cc85b341a97de80fc14c565b92753d2b3d2672a105354b34b6c06cb48512c5e"
  }
 },
 "nbformat": 4,
 "nbformat_minor": 2
}