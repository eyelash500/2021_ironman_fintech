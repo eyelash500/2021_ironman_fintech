{
 "cells": [
  {
   "cell_type": "code",
   "execution_count": 2,
   "source": [
    "print(\"Hello world! Python & Jupyter\")"
   ],
   "outputs": [
    {
     "output_type": "stream",
     "name": "stdout",
     "text": [
      "Hello world! Python & Jupyter\n"
     ]
    }
   ],
   "metadata": {}
  },
  {
   "cell_type": "code",
   "execution_count": 9,
   "source": [
    "import db_connect\n",
    "import pandas"
   ],
   "outputs": [],
   "metadata": {}
  },
  {
   "cell_type": "code",
   "execution_count": 10,
   "source": [
    "conn = db_connect.mysql_connect().connect()\n"
   ],
   "outputs": [],
   "metadata": {}
  },
  {
   "cell_type": "code",
   "execution_count": 15,
   "source": [
    "df = pandas.read_sql('SELECT * FROM LegalDailyFutureOption', con=conn)\n",
    "print(df.head())"
   ],
   "outputs": [
    {
     "output_type": "stream",
     "name": "stdout",
     "text": [
      "   ID   TradeDate TradeGroup  FutureLongQty  OptionLongQty  FutureLongAmount  \\\n",
      "0   1  2021-09-06        自營商          41537         247258          46023473   \n",
      "1   2  2021-09-06         投信             27              2             76092   \n",
      "2   3  2021-09-06      外資及陸資         380498         140362         372794596   \n",
      "3  10  2018-09-07        自營商          61637         334109          61952810   \n",
      "4  11  2018-09-07         投信              4              0              8675   \n",
      "\n",
      "   OptionLongAmount  FutureShortQty  OptionShortQty  FutureShortAmount  ...  \\\n",
      "0            691464           38706          233044           47622514  ...   \n",
      "1                 6             254               2             888474  ...   \n",
      "2            630500          369862          145013          359440094  ...   \n",
      "3            690650           61382          351542           64613505  ...   \n",
      "4                 0             691               0            1498683  ...   \n",
      "\n",
      "   OptionLongOIAmount  FutureShortOIQty  OptionShortOIQty  \\\n",
      "0             1167670             93678            137420   \n",
      "1                  61             19832                 0   \n",
      "2              486793            344853             88933   \n",
      "3              572384            129201            197655   \n",
      "4                 582             32906               499   \n",
      "\n",
      "   FutureShortOIAmount  OptionShortOIAmount  FutureOINetQty  OptionOINetQty  \\\n",
      "0             52197885               824397            6922           24371   \n",
      "1             61007380                    0            2417              62   \n",
      "2            225993151               986546         -230431          -38464   \n",
      "3             54197460               507256          -49211           26233   \n",
      "4             64371491                 3422          -27579            -196   \n",
      "\n",
      "   FutureOINetAmount  OptionOINetAmount          CreateTime  \n",
      "0           31180664             343273 2021-09-06 23:15:55  \n",
      "1            3763399                 61 2021-09-06 23:15:55  \n",
      "2         -111817854            -499753 2021-09-06 23:15:55  \n",
      "3          -17190640              65128 2021-09-07 20:12:17  \n",
      "4          -57770343              -2840 2021-09-07 20:12:21  \n",
      "\n",
      "[5 rows x 28 columns]\n"
     ]
    }
   ],
   "metadata": {}
  },
  {
   "cell_type": "code",
   "execution_count": 16,
   "source": [
    "df.close.plot()\n"
   ],
   "outputs": [
    {
     "output_type": "error",
     "ename": "AttributeError",
     "evalue": "'DataFrame' object has no attribute 'close'",
     "traceback": [
      "\u001b[0;31m---------------------------------------------------------------------------\u001b[0m",
      "\u001b[0;31mAttributeError\u001b[0m                            Traceback (most recent call last)",
      "\u001b[0;32m/var/folders/6f/2dwt6kdj29v5m2j4y5jrg3bm0000gn/T/ipykernel_70608/2317346181.py\u001b[0m in \u001b[0;36m<module>\u001b[0;34m\u001b[0m\n\u001b[0;32m----> 1\u001b[0;31m \u001b[0mdf\u001b[0m\u001b[0;34m.\u001b[0m\u001b[0mclose\u001b[0m\u001b[0;34m.\u001b[0m\u001b[0mplot\u001b[0m\u001b[0;34m(\u001b[0m\u001b[0;34m)\u001b[0m\u001b[0;34m\u001b[0m\u001b[0;34m\u001b[0m\u001b[0m\n\u001b[0m",
      "\u001b[0;32m~/Documents/思辨集/project/ithome-13/.venv/lib/python3.9/site-packages/pandas/core/generic.py\u001b[0m in \u001b[0;36m__getattr__\u001b[0;34m(self, name)\u001b[0m\n\u001b[1;32m   5485\u001b[0m         ):\n\u001b[1;32m   5486\u001b[0m             \u001b[0;32mreturn\u001b[0m \u001b[0mself\u001b[0m\u001b[0;34m[\u001b[0m\u001b[0mname\u001b[0m\u001b[0;34m]\u001b[0m\u001b[0;34m\u001b[0m\u001b[0;34m\u001b[0m\u001b[0m\n\u001b[0;32m-> 5487\u001b[0;31m         \u001b[0;32mreturn\u001b[0m \u001b[0mobject\u001b[0m\u001b[0;34m.\u001b[0m\u001b[0m__getattribute__\u001b[0m\u001b[0;34m(\u001b[0m\u001b[0mself\u001b[0m\u001b[0;34m,\u001b[0m \u001b[0mname\u001b[0m\u001b[0;34m)\u001b[0m\u001b[0;34m\u001b[0m\u001b[0;34m\u001b[0m\u001b[0m\n\u001b[0m\u001b[1;32m   5488\u001b[0m \u001b[0;34m\u001b[0m\u001b[0m\n\u001b[1;32m   5489\u001b[0m     \u001b[0;32mdef\u001b[0m \u001b[0m__setattr__\u001b[0m\u001b[0;34m(\u001b[0m\u001b[0mself\u001b[0m\u001b[0;34m,\u001b[0m \u001b[0mname\u001b[0m\u001b[0;34m:\u001b[0m \u001b[0mstr\u001b[0m\u001b[0;34m,\u001b[0m \u001b[0mvalue\u001b[0m\u001b[0;34m)\u001b[0m \u001b[0;34m->\u001b[0m \u001b[0;32mNone\u001b[0m\u001b[0;34m:\u001b[0m\u001b[0;34m\u001b[0m\u001b[0;34m\u001b[0m\u001b[0m\n",
      "\u001b[0;31mAttributeError\u001b[0m: 'DataFrame' object has no attribute 'close'"
     ]
    }
   ],
   "metadata": {}
  }
 ],
 "metadata": {
  "orig_nbformat": 4,
  "language_info": {
   "name": "python",
   "version": "3.9.7",
   "mimetype": "text/x-python",
   "codemirror_mode": {
    "name": "ipython",
    "version": 3
   },
   "pygments_lexer": "ipython3",
   "nbconvert_exporter": "python",
   "file_extension": ".py"
  },
  "kernelspec": {
   "name": "python3",
   "display_name": "Python 3.9.7 64-bit ('.venv': pipenv)"
  },
  "interpreter": {
   "hash": "2cc85b341a97de80fc14c565b92753d2b3d2672a105354b34b6c06cb48512c5e"
  }
 },
 "nbformat": 4,
 "nbformat_minor": 2
}